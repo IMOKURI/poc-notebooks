{
  "nbformat": 4,
  "nbformat_minor": 0,
  "metadata": {
    "accelerator": "GPU",
    "colab": {
      "name": "Pytorch_CIFAR10.ipynb",
      "provenance": [],
      "collapsed_sections": [],
      "toc_visible": true,
      "include_colab_link": true
    },
    "kernelspec": {
      "display_name": "Python 3",
      "language": "python",
      "name": "python3"
    },
    "language_info": {
      "codemirror_mode": {
        "name": "ipython",
        "version": 3
      },
      "file_extension": ".py",
      "mimetype": "text/x-python",
      "name": "python",
      "nbconvert_exporter": "python",
      "pygments_lexer": "ipython3",
      "version": "3.6.9"
    }
  },
  "cells": [
    {
      "cell_type": "markdown",
      "metadata": {
        "id": "view-in-github",
        "colab_type": "text"
      },
      "source": [
        "<a href=\"https://colab.research.google.com/github/IMOKURI/poc-notebooks/blob/main/Pytorch_CIFAR10.ipynb\" target=\"_parent\"><img src=\"https://colab.research.google.com/assets/colab-badge.svg\" alt=\"Open In Colab\"/></a>"
      ]
    },
    {
      "cell_type": "markdown",
      "metadata": {
        "id": "5d_C3k20eEiB"
      },
      "source": [
        "# CIFAR10 Image Classification for Pytorch\n",
        "\n",
        "https://github.com/pytorch/tutorials/blob/master/beginner_source/blitz/cifar10_tutorial.py"
      ]
    },
    {
      "cell_type": "code",
      "metadata": {
        "colab": {
          "base_uri": "https://localhost:8080/"
        },
        "id": "mC0s1RjJybuH",
        "outputId": "cdffcfa4-1812-4d71-b7e8-9ef19841a810"
      },
      "source": [
        "!nvidia-smi"
      ],
      "execution_count": 1,
      "outputs": [
        {
          "output_type": "stream",
          "text": [
            "Wed Mar  3 12:13:22 2021       \n",
            "+-----------------------------------------------------------------------------+\n",
            "| NVIDIA-SMI 460.39       Driver Version: 460.32.03    CUDA Version: 11.2     |\n",
            "|-------------------------------+----------------------+----------------------+\n",
            "| GPU  Name        Persistence-M| Bus-Id        Disp.A | Volatile Uncorr. ECC |\n",
            "| Fan  Temp  Perf  Pwr:Usage/Cap|         Memory-Usage | GPU-Util  Compute M. |\n",
            "|                               |                      |               MIG M. |\n",
            "|===============================+======================+======================|\n",
            "|   0  Tesla T4            Off  | 00000000:00:04.0 Off |                    0 |\n",
            "| N/A   65C    P8    12W /  70W |      0MiB / 15109MiB |      0%      Default |\n",
            "|                               |                      |                  N/A |\n",
            "+-------------------------------+----------------------+----------------------+\n",
            "                                                                               \n",
            "+-----------------------------------------------------------------------------+\n",
            "| Processes:                                                                  |\n",
            "|  GPU   GI   CI        PID   Type   Process name                  GPU Memory |\n",
            "|        ID   ID                                                   Usage      |\n",
            "|=============================================================================|\n",
            "|  No running processes found                                                 |\n",
            "+-----------------------------------------------------------------------------+\n"
          ],
          "name": "stdout"
        }
      ]
    },
    {
      "cell_type": "code",
      "metadata": {
        "id": "QdI87kpIx_fe"
      },
      "source": [
        "!pip install -q timm albumentations==0.4.5"
      ],
      "execution_count": 2,
      "outputs": []
    },
    {
      "cell_type": "markdown",
      "metadata": {
        "id": "8-OOzBZGfsC2"
      },
      "source": [
        "## Library"
      ]
    },
    {
      "cell_type": "code",
      "metadata": {
        "id": "6QGJ7dF7fpy7"
      },
      "source": [
        "import collections\n",
        "import logging\n",
        "import math\n",
        "import os\n",
        "import random\n",
        "import time\n",
        "\n",
        "import matplotlib.pyplot as plt\n",
        "import numpy as np\n",
        "import pandas as pd\n",
        "import seaborn\n",
        "import timm\n",
        "import torch\n",
        "import torch.nn as nn\n",
        "import torch.nn.functional as F\n",
        "import torch.optim as optim\n",
        "import torchvision\n",
        "from albumentations import Compose, Normalize, RandomResizedCrop, Resize\n",
        "from albumentations.pytorch import ToTensorV2\n",
        "from sklearn.metrics import accuracy_score, confusion_matrix\n",
        "from sklearn.model_selection import StratifiedKFold\n",
        "from torch.optim import SGD, Adam\n",
        "from torch.optim.lr_scheduler import CosineAnnealingLR, CosineAnnealingWarmRestarts, ReduceLROnPlateau\n",
        "from torch.utils.data import DataLoader, Dataset\n",
        "\n",
        "%matplotlib inline"
      ],
      "execution_count": 3,
      "outputs": []
    },
    {
      "cell_type": "markdown",
      "metadata": {
        "id": "3ox4iw5vx6-T"
      },
      "source": [
        "## Config"
      ]
    },
    {
      "cell_type": "code",
      "metadata": {
        "id": "ph7NyHJLx6-U"
      },
      "source": [
        "class C:\n",
        "    seed = 22\n",
        "    print_freq = 100\n",
        "\n",
        "    train = True\n",
        "    inference = True\n",
        "    \n",
        "    target_col = \"label\"\n",
        "    target = [\"plane\", \"car\", \"bird\", \"cat\", \"deer\", \"dog\", \"frog\", \"horse\", \"ship\", \"truck\"]\n",
        "    target_size = len(target)\n",
        "\n",
        "    size = 32\n",
        "\n",
        "    n_fold = 3\n",
        "    n_epoch = 2\n",
        "\n",
        "    num_workers = 4\n",
        "    batch_size = 500\n",
        "    gradient_accumulation_steps = 1\n",
        "    \n",
        "    model_index = ['a', 'b', 'c']\n",
        "\n",
        "    # ====================================================\n",
        "    # model\n",
        "    # ====================================================\n",
        "    model_name = \"tf_efficientnet_b0_ns\"\n",
        "\n",
        "    # ====================================================\n",
        "    # loss\n",
        "    # ====================================================\n",
        "    criterion = \"CrossEntropyLoss\"  # 'CrossEntropyLoss'\n",
        "\n",
        "    max_grad_norm = 1000\n",
        "\n",
        "    # ====================================================\n",
        "    # optimizer\n",
        "    # ====================================================\n",
        "    optimizer = \"Adam\"  # 'Adam', 'SGD'\n",
        "\n",
        "    lr = 1e-4\n",
        "    min_lr = 2e-6\n",
        "    weight_decay = 1e-6\n",
        "\n",
        "    # ====================================================\n",
        "    # scheduler\n",
        "    # ====================================================\n",
        "    scheduler = \"ReduceLROnPlateau\"  # 'CosineAnnealingLR', 'CosineAnnealingWarmRestarts', 'ReduceLROnPlateau'\n",
        "    scheduler_batch_update = False\n",
        "\n",
        "    # ReduceLROnPlateau\n",
        "    factor = 0.2\n",
        "    patience = 4\n",
        "    eps = 1e-6\n",
        "\n",
        "    # CosineAnnealingLR\n",
        "    T_max = 10\n",
        "\n",
        "    # CosineAnnealingWarmRestarts\n",
        "    T_0 = 10\n",
        "\n",
        "\n",
        "device = torch.device(\"cuda:0\" if torch.cuda.is_available() else \"cpu\")\n",
        "\n",
        "OUTPUT_DIR = \"./models/\"\n",
        "if not os.path.exists(OUTPUT_DIR):\n",
        "    os.makedirs(OUTPUT_DIR)"
      ],
      "execution_count": 4,
      "outputs": []
    },
    {
      "cell_type": "markdown",
      "metadata": {
        "id": "5d2VaY_3x6-U"
      },
      "source": [
        "## Util"
      ]
    },
    {
      "cell_type": "code",
      "metadata": {
        "id": "0NFGgg5bx6-U"
      },
      "source": [
        "def seed_torch(seed=42):\n",
        "    random.seed(seed)\n",
        "    os.environ[\"PYTHONHASHSEED\"] = str(seed)\n",
        "    np.random.seed(seed)\n",
        "    torch.manual_seed(seed)\n",
        "    torch.cuda.manual_seed(seed)\n",
        "    torch.backends.cudnn.deterministic = True\n",
        "\n",
        "\n",
        "seed_torch(seed=C.seed)"
      ],
      "execution_count": 5,
      "outputs": []
    },
    {
      "cell_type": "code",
      "metadata": {
        "id": "QMrVVP4wx6-V"
      },
      "source": [
        "def init_logger(log_file=OUTPUT_DIR + \"train.log\"):\n",
        "\n",
        "    logger = logging.getLogger(__name__)\n",
        "    logger.setLevel(logging.INFO)\n",
        "    handler1 = logging.StreamHandler()\n",
        "    handler1.setFormatter(logging.Formatter(\"%(message)s\"))\n",
        "    handler2 = logging.FileHandler(filename=log_file)\n",
        "    handler2.setFormatter(logging.Formatter(\"%(message)s\"))\n",
        "    logger.addHandler(handler1)\n",
        "    logger.addHandler(handler2)\n",
        "    return logger\n",
        "\n",
        "\n",
        "LOGGER = init_logger()"
      ],
      "execution_count": 6,
      "outputs": []
    },
    {
      "cell_type": "code",
      "metadata": {
        "id": "QauKvyEgx6-V"
      },
      "source": [
        "class AverageMeter(object):\n",
        "    \"\"\"Computes and stores the average and current value\"\"\"\n",
        "\n",
        "    def __init__(self):\n",
        "        self.reset()\n",
        "\n",
        "    def reset(self):\n",
        "        self.val = 0\n",
        "        self.avg = 0\n",
        "        self.sum = 0\n",
        "        self.count = 0\n",
        "\n",
        "    def update(self, val, n=1):\n",
        "        self.val = val\n",
        "        self.sum += val * n\n",
        "        self.count += n\n",
        "        self.avg = self.sum / self.count"
      ],
      "execution_count": 7,
      "outputs": []
    },
    {
      "cell_type": "code",
      "metadata": {
        "id": "NOQumCtyx6-V"
      },
      "source": [
        "def asMinutes(s):\n",
        "    m = math.floor(s / 60)\n",
        "    s -= m * 60\n",
        "    return \"%dm %ds\" % (m, s)\n",
        "\n",
        "\n",
        "def timeSince(since, percent):\n",
        "    now = time.time()\n",
        "    s = now - since\n",
        "    es = s / (percent)\n",
        "    rs = es - s\n",
        "    return \"%s (remain %s)\" % (asMinutes(s), asMinutes(rs))"
      ],
      "execution_count": 8,
      "outputs": []
    },
    {
      "cell_type": "code",
      "metadata": {
        "id": "oQmk897vx6-W"
      },
      "source": [
        "def get_score(y_true, y_pred):\n",
        "    return accuracy_score(y_true, y_pred)"
      ],
      "execution_count": 9,
      "outputs": []
    },
    {
      "cell_type": "code",
      "metadata": {
        "id": "7qxoXJIPx6-W"
      },
      "source": [
        "def get_result(result_df):\n",
        "    preds = result_df[\"preds\"].values\n",
        "    labels = result_df[C.target_col].values\n",
        "    score = get_score(labels, preds)\n",
        "    LOGGER.info(f\"Score: {score:.4f}\")"
      ],
      "execution_count": 10,
      "outputs": []
    },
    {
      "cell_type": "markdown",
      "metadata": {
        "id": "PxIB6f--x6-W"
      },
      "source": [
        "## Data Loading"
      ]
    },
    {
      "cell_type": "code",
      "metadata": {
        "colab": {
          "base_uri": "https://localhost:8080/"
        },
        "id": "3LSvlOgZx6-W",
        "outputId": "9ac3301d-b263-4ac4-ebac-a12652fa43a3"
      },
      "source": [
        "# Download CIFAR10 datasets\n",
        "train_ds = torchvision.datasets.CIFAR10(root=\"./data\", train=True, download=True)\n",
        "test_ds = torchvision.datasets.CIFAR10(root=\"./data\", train=False, download=True)\n",
        "\n",
        "print(f\"Train dataset size: {len(train_ds)}\")\n",
        "print(f\"Test dataset size: {len(test_ds)}\")"
      ],
      "execution_count": 11,
      "outputs": [
        {
          "output_type": "stream",
          "text": [
            "Files already downloaded and verified\n",
            "Files already downloaded and verified\n",
            "Train dataset size: 50000\n",
            "Test dataset size: 10000\n"
          ],
          "name": "stdout"
        }
      ]
    },
    {
      "cell_type": "code",
      "metadata": {
        "id": "Kppl8FRux6-X"
      },
      "source": [
        "train = pd.DataFrame(train_ds.targets, columns=[\"label\"])"
      ],
      "execution_count": 12,
      "outputs": []
    },
    {
      "cell_type": "code",
      "metadata": {
        "colab": {
          "base_uri": "https://localhost:8080/",
          "height": 415
        },
        "id": "Rz0nf59Xx6-Y",
        "outputId": "8316afae-fab1-4a08-dbc9-5325e9096d58"
      },
      "source": [
        "train"
      ],
      "execution_count": 13,
      "outputs": [
        {
          "output_type": "execute_result",
          "data": {
            "text/html": [
              "<div>\n",
              "<style scoped>\n",
              "    .dataframe tbody tr th:only-of-type {\n",
              "        vertical-align: middle;\n",
              "    }\n",
              "\n",
              "    .dataframe tbody tr th {\n",
              "        vertical-align: top;\n",
              "    }\n",
              "\n",
              "    .dataframe thead th {\n",
              "        text-align: right;\n",
              "    }\n",
              "</style>\n",
              "<table border=\"1\" class=\"dataframe\">\n",
              "  <thead>\n",
              "    <tr style=\"text-align: right;\">\n",
              "      <th></th>\n",
              "      <th>label</th>\n",
              "    </tr>\n",
              "  </thead>\n",
              "  <tbody>\n",
              "    <tr>\n",
              "      <th>0</th>\n",
              "      <td>6</td>\n",
              "    </tr>\n",
              "    <tr>\n",
              "      <th>1</th>\n",
              "      <td>9</td>\n",
              "    </tr>\n",
              "    <tr>\n",
              "      <th>2</th>\n",
              "      <td>9</td>\n",
              "    </tr>\n",
              "    <tr>\n",
              "      <th>3</th>\n",
              "      <td>4</td>\n",
              "    </tr>\n",
              "    <tr>\n",
              "      <th>4</th>\n",
              "      <td>1</td>\n",
              "    </tr>\n",
              "    <tr>\n",
              "      <th>...</th>\n",
              "      <td>...</td>\n",
              "    </tr>\n",
              "    <tr>\n",
              "      <th>49995</th>\n",
              "      <td>2</td>\n",
              "    </tr>\n",
              "    <tr>\n",
              "      <th>49996</th>\n",
              "      <td>6</td>\n",
              "    </tr>\n",
              "    <tr>\n",
              "      <th>49997</th>\n",
              "      <td>9</td>\n",
              "    </tr>\n",
              "    <tr>\n",
              "      <th>49998</th>\n",
              "      <td>1</td>\n",
              "    </tr>\n",
              "    <tr>\n",
              "      <th>49999</th>\n",
              "      <td>1</td>\n",
              "    </tr>\n",
              "  </tbody>\n",
              "</table>\n",
              "<p>50000 rows × 1 columns</p>\n",
              "</div>"
            ],
            "text/plain": [
              "       label\n",
              "0          6\n",
              "1          9\n",
              "2          9\n",
              "3          4\n",
              "4          1\n",
              "...      ...\n",
              "49995      2\n",
              "49996      6\n",
              "49997      9\n",
              "49998      1\n",
              "49999      1\n",
              "\n",
              "[50000 rows x 1 columns]"
            ]
          },
          "metadata": {
            "tags": []
          },
          "execution_count": 13
        }
      ]
    },
    {
      "cell_type": "markdown",
      "metadata": {
        "id": "E-X64dmGx6-Y"
      },
      "source": [
        "## CV Split"
      ]
    },
    {
      "cell_type": "code",
      "metadata": {
        "colab": {
          "base_uri": "https://localhost:8080/"
        },
        "id": "1bM_zJ8cx6-Y",
        "outputId": "81a1da62-b701-479c-fa4c-b8774f1f299c"
      },
      "source": [
        "folds = train.copy()\n",
        "Fold = StratifiedKFold(n_splits=C.n_fold, shuffle=True, random_state=C.seed)\n",
        "\n",
        "for n, (train_index, val_index) in enumerate(Fold.split(folds, folds[C.target_col])):\n",
        "    folds.loc[val_index, \"fold\"] = int(n)\n",
        "\n",
        "folds[\"fold\"] = folds[\"fold\"].astype(int)\n",
        "\n",
        "print(folds.groupby([\"fold\", C.target_col]).size())"
      ],
      "execution_count": 14,
      "outputs": [
        {
          "output_type": "stream",
          "text": [
            "fold  label\n",
            "0     0        1667\n",
            "      1        1667\n",
            "      2        1667\n",
            "      3        1667\n",
            "      4        1666\n",
            "      5        1666\n",
            "      6        1667\n",
            "      7        1666\n",
            "      8        1667\n",
            "      9        1667\n",
            "1     0        1667\n",
            "      1        1667\n",
            "      2        1666\n",
            "      3        1666\n",
            "      4        1667\n",
            "      5        1667\n",
            "      6        1667\n",
            "      7        1667\n",
            "      8        1667\n",
            "      9        1666\n",
            "2     0        1666\n",
            "      1        1666\n",
            "      2        1667\n",
            "      3        1667\n",
            "      4        1667\n",
            "      5        1667\n",
            "      6        1666\n",
            "      7        1667\n",
            "      8        1666\n",
            "      9        1667\n",
            "dtype: int64\n"
          ],
          "name": "stdout"
        }
      ]
    },
    {
      "cell_type": "code",
      "metadata": {
        "colab": {
          "base_uri": "https://localhost:8080/",
          "height": 202
        },
        "id": "YpvlXrWlx6-Y",
        "outputId": "ca6e4c84-b446-4f72-e087-84cfff9ab868"
      },
      "source": [
        "folds.head()"
      ],
      "execution_count": 15,
      "outputs": [
        {
          "output_type": "execute_result",
          "data": {
            "text/html": [
              "<div>\n",
              "<style scoped>\n",
              "    .dataframe tbody tr th:only-of-type {\n",
              "        vertical-align: middle;\n",
              "    }\n",
              "\n",
              "    .dataframe tbody tr th {\n",
              "        vertical-align: top;\n",
              "    }\n",
              "\n",
              "    .dataframe thead th {\n",
              "        text-align: right;\n",
              "    }\n",
              "</style>\n",
              "<table border=\"1\" class=\"dataframe\">\n",
              "  <thead>\n",
              "    <tr style=\"text-align: right;\">\n",
              "      <th></th>\n",
              "      <th>label</th>\n",
              "      <th>fold</th>\n",
              "    </tr>\n",
              "  </thead>\n",
              "  <tbody>\n",
              "    <tr>\n",
              "      <th>0</th>\n",
              "      <td>6</td>\n",
              "      <td>0</td>\n",
              "    </tr>\n",
              "    <tr>\n",
              "      <th>1</th>\n",
              "      <td>9</td>\n",
              "      <td>1</td>\n",
              "    </tr>\n",
              "    <tr>\n",
              "      <th>2</th>\n",
              "      <td>9</td>\n",
              "      <td>1</td>\n",
              "    </tr>\n",
              "    <tr>\n",
              "      <th>3</th>\n",
              "      <td>4</td>\n",
              "      <td>0</td>\n",
              "    </tr>\n",
              "    <tr>\n",
              "      <th>4</th>\n",
              "      <td>1</td>\n",
              "      <td>1</td>\n",
              "    </tr>\n",
              "  </tbody>\n",
              "</table>\n",
              "</div>"
            ],
            "text/plain": [
              "   label  fold\n",
              "0      6     0\n",
              "1      9     1\n",
              "2      9     1\n",
              "3      4     0\n",
              "4      1     1"
            ]
          },
          "metadata": {
            "tags": []
          },
          "execution_count": 15
        }
      ]
    },
    {
      "cell_type": "markdown",
      "metadata": {
        "id": "GFErFb8Sx6-Z"
      },
      "source": [
        "## Dataset"
      ]
    },
    {
      "cell_type": "code",
      "metadata": {
        "id": "0X5RaC8vx6-Z"
      },
      "source": [
        "class Subset(Dataset):\n",
        "    def __init__(self, dataset, indices, transform=None):\n",
        "        self.dataset = dataset\n",
        "        self.indices = indices\n",
        "        self.transform = transform\n",
        "\n",
        "    def __getitem__(self, idx):\n",
        "        image, label = self.dataset[self.indices[idx]]\n",
        "        if self.transform:\n",
        "            aug = self.transform(image=np.array(image))\n",
        "            image = aug[\"image\"]\n",
        "        return image, label\n",
        "\n",
        "    def __len__(self):\n",
        "        return len(self.indices)"
      ],
      "execution_count": 16,
      "outputs": []
    },
    {
      "cell_type": "code",
      "metadata": {
        "id": "2AZel-8Fx6-Z"
      },
      "source": [
        "sub_ds_idx = folds[folds[\"fold\"] == 0].index\n",
        "\n",
        "train_sub_ds = Subset(train_ds, sub_ds_idx)"
      ],
      "execution_count": 17,
      "outputs": []
    },
    {
      "cell_type": "code",
      "metadata": {
        "colab": {
          "base_uri": "https://localhost:8080/",
          "height": 281
        },
        "id": "Q2AfoJ0px6-Z",
        "outputId": "b069fd81-710d-498b-a1c4-0eef45ba3798"
      },
      "source": [
        "for i in range(1):\n",
        "    image, label = train_sub_ds[i]\n",
        "    plt.imshow(image)\n",
        "    plt.title(f\"Label: {C.target[label]}\")\n",
        "    plt.show()"
      ],
      "execution_count": 18,
      "outputs": [
        {
          "output_type": "display_data",
          "data": {
            "image/png": "[encoded data removed]",
            "text/plain": [
              "<Figure size 432x288 with 1 Axes>"
            ]
          },
          "metadata": {
            "tags": [],
            "needs_background": "light"
          }
        }
      ]
    },
    {
      "cell_type": "markdown",
      "metadata": {
        "id": "OaVQQxTrx6-a"
      },
      "source": [
        "## Transform"
      ]
    },
    {
      "cell_type": "code",
      "metadata": {
        "id": "sVvUnZnDx6-a"
      },
      "source": [
        "def get_transforms(*, data):\n",
        "\n",
        "    if data == \"train\":\n",
        "        return Compose(\n",
        "            [\n",
        "                # Resize(C.size, C.size),\n",
        "                RandomResizedCrop(C.size, C.size),\n",
        "                Normalize(\n",
        "                    mean=[0.485, 0.456, 0.406],\n",
        "                    std=[0.229, 0.224, 0.225],\n",
        "                ),\n",
        "                ToTensorV2(),\n",
        "            ]\n",
        "        )\n",
        "\n",
        "    elif data == \"valid\":\n",
        "        return Compose(\n",
        "            [\n",
        "                Resize(C.size, C.size),\n",
        "                Normalize(\n",
        "                    mean=[0.485, 0.456, 0.406],\n",
        "                    std=[0.229, 0.224, 0.225],\n",
        "                ),\n",
        "                ToTensorV2(),\n",
        "            ]\n",
        "        )"
      ],
      "execution_count": 19,
      "outputs": []
    },
    {
      "cell_type": "code",
      "metadata": {
        "id": "JS7jyT8ex6-a"
      },
      "source": [
        "train_sub_ds = Subset(train_ds, sub_ds_idx, get_transforms(data=\"train\"))"
      ],
      "execution_count": 20,
      "outputs": []
    },
    {
      "cell_type": "code",
      "metadata": {
        "colab": {
          "base_uri": "https://localhost:8080/",
          "height": 281
        },
        "id": "nAW-ADnLx6-a",
        "outputId": "3a87d2ee-8f0b-4940-eaaa-bc0c1323130a"
      },
      "source": [
        "for i in range(1):\n",
        "    image, label = train_sub_ds[i]\n",
        "    plt.imshow(image[0])\n",
        "    plt.title(f\"Label: {C.target[label]}\")\n",
        "    plt.show()"
      ],
      "execution_count": 21,
      "outputs": [
        {
          "output_type": "display_data",
          "data": {
            "image/png": "[encoded data removed]",
            "text/plain": [
              "<Figure size 432x288 with 1 Axes>"
            ]
          },
          "metadata": {
            "tags": [],
            "needs_background": "light"
          }
        }
      ]
    },
    {
      "cell_type": "markdown",
      "metadata": {
        "id": "Abf1T_iix6-b"
      },
      "source": [
        "## Model"
      ]
    },
    {
      "cell_type": "code",
      "metadata": {
        "id": "uNe53QBBx6-c"
      },
      "source": [
        "class Net(nn.Module):\n",
        "    def __init__(self, model_name=\"tf_efficientnet_b0_ns\", pretrained=False):\n",
        "        super().__init__()\n",
        "        self.model_name = model_name\n",
        "        self.model = timm.create_model(model_name, pretrained=pretrained)\n",
        "\n",
        "        n_features = self.model.classifier.in_features\n",
        "        self.model.classifier = nn.Linear(n_features, C.target_size)\n",
        "\n",
        "    def forward(self, x):\n",
        "        x = self.model(x)\n",
        "        return x"
      ],
      "execution_count": 22,
      "outputs": []
    },
    {
      "cell_type": "code",
      "metadata": {
        "colab": {
          "base_uri": "https://localhost:8080/"
        },
        "id": "h1n6dMrEx6-c",
        "outputId": "3a7a0723-5ff4-431d-fee3-eb375b1c6daf"
      },
      "source": [
        "net = Net()\n",
        "\n",
        "train_loader = DataLoader(\n",
        "    train_sub_ds, batch_size=4, shuffle=True, num_workers=2, pin_memory=True, drop_last=True\n",
        ")\n",
        "\n",
        "for image, label in train_loader:\n",
        "    output = net(image)\n",
        "    print(output)\n",
        "    break"
      ],
      "execution_count": 23,
      "outputs": [
        {
          "output_type": "stream",
          "text": [
            "tensor([[ 0.1592, -0.1075,  0.1915,  0.3640,  0.0916,  0.2570,  0.3370, -0.8907,\n",
            "          0.3022, -0.1149],\n",
            "        [ 0.0879,  0.1010,  0.4889, -0.1221, -0.2158,  0.0166,  0.0385,  0.0911,\n",
            "         -0.0902,  0.0028],\n",
            "        [ 0.3087,  0.2091,  0.0376,  0.2858, -0.0127,  0.5627, -0.5454, -0.1313,\n",
            "          0.1374, -0.0499],\n",
            "        [ 0.0491,  0.0274,  0.0170, -0.5541, -0.1561,  0.2113, -0.5014,  0.0432,\n",
            "         -0.0619,  0.1701]], grad_fn=<AddmmBackward>)\n"
          ],
          "name": "stdout"
        }
      ]
    },
    {
      "cell_type": "markdown",
      "metadata": {
        "id": "hrvK0EYfeEiR"
      },
      "source": [
        "## Loss function"
      ]
    },
    {
      "cell_type": "code",
      "metadata": {
        "id": "ilv7RieueEiR"
      },
      "source": [
        "def get_criterion():\n",
        "    if C.criterion == \"CrossEntropyLoss\":\n",
        "        criterion = nn.CrossEntropyLoss()\n",
        "    return criterion"
      ],
      "execution_count": 24,
      "outputs": []
    },
    {
      "cell_type": "markdown",
      "metadata": {
        "id": "cHz14qQbx6-e"
      },
      "source": [
        "## Optimizer"
      ]
    },
    {
      "cell_type": "code",
      "metadata": {
        "id": "tt1Ynofrx6-e"
      },
      "source": [
        "def get_optimizer(net):\n",
        "    if C.optimizer == \"SGD\":\n",
        "        optimizer = optim.SGD(net.parameters(), lr=C.lr, momentum=0.9)\n",
        "    elif C.optimizer == \"Adam\":\n",
        "        optimizer = Adam(net.parameters(), lr=C.lr, weight_decay=C.weight_decay, amsgrad=False)\n",
        "\n",
        "    return optimizer"
      ],
      "execution_count": 25,
      "outputs": []
    },
    {
      "cell_type": "markdown",
      "metadata": {
        "id": "xuAdU21ax6-f"
      },
      "source": [
        "## Scheduler"
      ]
    },
    {
      "cell_type": "code",
      "metadata": {
        "id": "sym5hK1kx6-g"
      },
      "source": [
        "def get_scheduler(optimizer):\n",
        "    if C.scheduler == \"ReduceLROnPlateau\":\n",
        "        scheduler = ReduceLROnPlateau(\n",
        "            optimizer, mode=\"min\", factor=C.factor, patience=C.patience, verbose=True, eps=C.eps\n",
        "        )\n",
        "\n",
        "    elif C.scheduler == \"CosineAnnealingLR\":\n",
        "        scheduler = CosineAnnealingLR(optimizer, T_max=C.T_max, eta_min=C.min_lr, last_epoch=-1)\n",
        "\n",
        "    elif C.scheduler == \"CosineAnnealingWarmRestarts\":\n",
        "        scheduler = CosineAnnealingWarmRestarts(optimizer, T_0=C.T_0, T_mult=1, eta_min=C.min_lr, last_epoch=-1)\n",
        "\n",
        "    return scheduler"
      ],
      "execution_count": 26,
      "outputs": []
    },
    {
      "cell_type": "markdown",
      "metadata": {
        "id": "hvYEGG26eEiS"
      },
      "source": [
        "## Training Helper"
      ]
    },
    {
      "cell_type": "code",
      "metadata": {
        "id": "ioQSiAuCx6-j"
      },
      "source": [
        "def train_fn(loader, net, criterion, optimizer, scheduler, epoch, device):\n",
        "    losses = AverageMeter()\n",
        "    scores = AverageMeter()\n",
        "\n",
        "    # switch to train mode\n",
        "    net.train()\n",
        "\n",
        "    start = time.time()\n",
        "\n",
        "    for step, (images, labels) in enumerate(loader):\n",
        "        images = images.to(device)\n",
        "        labels = labels.to(device)\n",
        "        batch_size = labels.size(0)\n",
        "\n",
        "        preds = net(images.float())\n",
        "\n",
        "        loss = criterion(preds, labels)\n",
        "        losses.update(loss.item(), batch_size)\n",
        "\n",
        "        score = get_score(labels.to(\"cpu\").detach().clone().numpy(), preds.softmax(1).argmax(1).to(\"cpu\").detach().clone().numpy())\n",
        "        scores.update(score.item(), batch_size)\n",
        "\n",
        "        if C.gradient_accumulation_steps > 1:\n",
        "            loss = loss / C.gradient_accumulation_steps\n",
        "        loss.backward()\n",
        "\n",
        "        # 学習の間、(勾配が) 急上昇するのを防ぐために総ての勾配を一緒にスケールする\n",
        "        grad_norm = torch.nn.utils.clip_grad_norm_(net.parameters(), C.max_grad_norm)\n",
        "\n",
        "        if (step + 1) % C.gradient_accumulation_steps == 0:\n",
        "            optimizer.step()\n",
        "            optimizer.zero_grad()\n",
        "\n",
        "            if C.scheduler_batch_update:\n",
        "                scheduler.step()\n",
        "\n",
        "        if step % C.print_freq == 0 or step == (len(loader) - 1):\n",
        "            print(\n",
        "                f\"Epoch: [{epoch + 1}][{step}/{len(loader)}] \"\n",
        "                + f\"Elapsed {timeSince(start, float(step + 1) / len(loader)):s} \"\n",
        "                + f\"Score: {scores.avg:.4f} \"\n",
        "                + f\"Loss: {losses.avg:.4f} \"\n",
        "                + f\"Grad: {grad_norm:.4f} \"\n",
        "                # + f\"LR: {scheduler.get_lr()[0]:.6f} \"  # optimizer.param_groups[0]['lr']\n",
        "            )\n",
        "\n",
        "    return scores.avg, losses.avg"
      ],
      "execution_count": 27,
      "outputs": []
    },
    {
      "cell_type": "code",
      "metadata": {
        "id": "Tt52u2jQx6-l"
      },
      "source": [
        "def valid_fn(loader, net, criterion, device):\n",
        "    losses = AverageMeter()\n",
        "    scores = AverageMeter()\n",
        "    preds_all = []\n",
        "\n",
        "    # switch to evaluation mode\n",
        "    net.eval()\n",
        "\n",
        "    start = time.time()\n",
        "\n",
        "    for step, (images, labels) in enumerate(loader):\n",
        "        images = images.to(device)\n",
        "        labels = labels.to(device)\n",
        "        batch_size = labels.size(0)\n",
        "\n",
        "        with torch.no_grad():\n",
        "            preds = net(images.float())\n",
        "\n",
        "        loss = criterion(preds, labels)\n",
        "        losses.update(loss.item(), batch_size)\n",
        "\n",
        "        score = get_score(labels.to(\"cpu\").numpy(), preds.softmax(1).argmax(1).to(\"cpu\").numpy())\n",
        "        scores.update(score.item(), batch_size)\n",
        "\n",
        "        preds_all.append(preds.softmax(1).to(\"cpu\").numpy())\n",
        "\n",
        "        if step % C.print_freq == 0 or step == (len(loader) - 1):\n",
        "            print(\n",
        "                f\"EVAL: [{step}/{len(loader)}] \"\n",
        "                + f\"Elapsed {timeSince(start, float(step + 1) / len(loader)):s} \"\n",
        "                + f\"Score: {scores.avg:.4f} \"\n",
        "                + f\"Loss: {losses.avg:.4f} \"\n",
        "            )\n",
        "\n",
        "    predictions = np.concatenate(preds_all)\n",
        "    return scores.avg, losses.avg, predictions"
      ],
      "execution_count": 28,
      "outputs": []
    },
    {
      "cell_type": "code",
      "metadata": {
        "id": "n_6M4yn6x6-p"
      },
      "source": [
        "def train_loop(folds, fold):\n",
        "    LOGGER.info(f\"========== fold: {fold} training ==========\")\n",
        "\n",
        "    # ====================================================\n",
        "    # loader\n",
        "    # ====================================================\n",
        "    trn_idx = folds[folds[\"fold\"] != fold].index\n",
        "    val_idx = folds[folds[\"fold\"] == fold].index\n",
        "\n",
        "    train_folds = folds.loc[trn_idx].reset_index(drop=True)\n",
        "    valid_folds = folds.loc[val_idx].reset_index(drop=True)\n",
        "\n",
        "    train_dataset = Subset(train_ds, trn_idx, transform=get_transforms(data=\"train\"))\n",
        "    valid_dataset = Subset(train_ds, val_idx, transform=get_transforms(data=\"valid\"))\n",
        "\n",
        "    train_loader = DataLoader(\n",
        "        train_dataset,\n",
        "        batch_size=C.batch_size,\n",
        "        shuffle=True,\n",
        "        num_workers=C.num_workers,\n",
        "        pin_memory=True,\n",
        "        drop_last=True,\n",
        "    )\n",
        "    valid_loader = DataLoader(\n",
        "        valid_dataset,\n",
        "        batch_size=C.batch_size,\n",
        "        shuffle=False,\n",
        "        num_workers=C.num_workers,\n",
        "        pin_memory=True,\n",
        "        drop_last=False,\n",
        "    )\n",
        "\n",
        "    # ====================================================\n",
        "    # model\n",
        "    # ====================================================\n",
        "    net = Net(C.model_name, pretrained=True)\n",
        "    net.to(device)\n",
        "\n",
        "    criterion = get_criterion()\n",
        "    optimizer = get_optimizer(net)\n",
        "    scheduler = get_scheduler(optimizer)\n",
        "\n",
        "    # ====================================================\n",
        "    # loop\n",
        "    # ====================================================\n",
        "    best_score = 0.0\n",
        "    best_loss = np.inf\n",
        "\n",
        "    for epoch in range(C.n_epoch):\n",
        "        start_time = time.time()\n",
        "\n",
        "        score_avg, loss_avg = train_fn(train_loader, net, criterion, optimizer, scheduler, epoch, device)\n",
        "        \n",
        "        val_score_avg, val_loss_avg, preds = valid_fn(valid_loader, net, criterion, device)\n",
        "        val_labels = valid_folds[C.target_col].values\n",
        "        \n",
        "        if not C.scheduler_batch_update:\n",
        "            if isinstance(scheduler, ReduceLROnPlateau):\n",
        "                scheduler.step(val_loss_avg)\n",
        "            elif isinstance(scheduler, CosineAnnealingLR):\n",
        "                scheduler.step()\n",
        "            elif isinstance(scheduler, CosineAnnealingWarmRestarts):\n",
        "                scheduler.step()\n",
        "        \n",
        "        score = get_score(val_labels, preds.argmax(1))\n",
        "        \n",
        "        elapsed = time.time() - start_time\n",
        "        \n",
        "        LOGGER.info(\n",
        "            f\"Epoch {epoch+1} - \"\n",
        "            + f\"train_score: {score_avg:.4f} \"\n",
        "            + f\"val_score: {val_score_avg:.4f} \"\n",
        "            + f\"train_loss: {loss_avg:.4f} \"\n",
        "            + f\"val_loss: {val_loss_avg:.4f} \"\n",
        "            + f\"time: {elapsed:.0f}s\"\n",
        "        )\n",
        "        # LOGGER.info(f\"Epoch {epoch+1} - Score: {score:.4f}\")\n",
        "        \n",
        "        if score > best_score:\n",
        "            best_score = score\n",
        "            LOGGER.info(f\"Epoch {epoch+1} - Save Best Score: {best_score:.4f} Model\")\n",
        "            torch.save(\n",
        "                {\"model\": net.state_dict(), \"preds\": preds}, OUTPUT_DIR + f\"{C.model_name}_{C.model_index[fold]}_best.pth\"\n",
        "            )\n",
        "            \n",
        "    check_point = torch.load(OUTPUT_DIR + f\"{C.model_name}_{C.model_index[fold]}_best.pth\")\n",
        "    valid_folds[[str(c) for c in range(C.target_size)]] = check_point[\"preds\"]\n",
        "    valid_folds[\"preds\"] = check_point[\"preds\"].argmax(1)\n",
        "\n",
        "    return valid_folds    "
      ],
      "execution_count": 29,
      "outputs": []
    },
    {
      "cell_type": "markdown",
      "metadata": {
        "id": "hZ2VWjVsx6-r"
      },
      "source": [
        "## Inference Helper"
      ]
    },
    {
      "cell_type": "code",
      "metadata": {
        "id": "EaaiZkl9x6-s"
      },
      "source": [
        "def inference(net, states, loader, device):\n",
        "    net.to(device)\n",
        "    probs = []\n",
        "    \n",
        "    for i, (images, labels) in enumerate(loader):\n",
        "        images = images.to(device)\n",
        "        avg_preds = []\n",
        "\n",
        "        for state in states:\n",
        "            net.load_state_dict(state[\"model\"])\n",
        "            net.eval()\n",
        "            \n",
        "            with torch.no_grad():\n",
        "                preds = net(images.float())\n",
        "                \n",
        "            avg_preds.append(preds.softmax(1).to(\"cpu\").numpy())\n",
        "            \n",
        "        avg_preds = np.mean(avg_preds, axis=0)\n",
        "        probs.append(avg_preds)\n",
        "        \n",
        "    probs = np.concatenate(probs)\n",
        "    return probs"
      ],
      "execution_count": 30,
      "outputs": []
    },
    {
      "cell_type": "code",
      "metadata": {
        "id": "2buNILZox6-t"
      },
      "source": [
        "def score_by_class(labels, preds):\n",
        "    pred_df = pd.DataFrame({'label': labels, 'pred': preds}, columns=['label', 'pred'])\n",
        "    for i in range(C.target_size):\n",
        "        class_idx = pred_df[pred_df[\"label\"] == i].index\n",
        "        score = get_score(pred_df.loc[class_idx, \"label\"], pred_df.loc[class_idx, \"pred\"])\n",
        "        LOGGER.info(f\"Class: {C.target[i]:5s} Score: {score:<.5f}\")"
      ],
      "execution_count": 31,
      "outputs": []
    },
    {
      "cell_type": "markdown",
      "metadata": {
        "id": "WQz8O1LXx6-u"
      },
      "source": [
        "## Main"
      ]
    },
    {
      "cell_type": "code",
      "metadata": {
        "id": "adeEKMZfx6-u"
      },
      "source": [
        "def main():\n",
        "\n",
        "    if C.train:\n",
        "        oof_df = pd.DataFrame()\n",
        "\n",
        "        for fold in range(C.n_fold):\n",
        "            _oof_df = train_loop(folds, fold)\n",
        "            oof_df = pd.concat([oof_df, _oof_df])\n",
        "\n",
        "            LOGGER.info(f\"========== fold: {fold} result ==========\")\n",
        "            get_result(_oof_df)\n",
        "\n",
        "        LOGGER.info(f\"========== CV ==========\")\n",
        "        get_result(oof_df)\n",
        "\n",
        "        # save result\n",
        "        oof_df.to_csv(OUTPUT_DIR + \"oof_df.csv\", index=False)\n",
        "\n",
        "    if C.inference:\n",
        "        net = Net(C.model_name, pretrained=False)\n",
        "        states = [torch.load(OUTPUT_DIR + f\"{C.model_name}_{idx}_best.pth\") for idx in C.model_index]\n",
        "        \n",
        "        test_dataset = Subset(test_ds, range(len(test_ds)), transform=get_transforms(data=\"valid\"))\n",
        "        test_loader = DataLoader(\n",
        "            test_dataset, batch_size=C.batch_size, shuffle=False, num_workers=C.num_workers, pin_memory=True\n",
        "        )\n",
        "        \n",
        "        predictions = inference(net, states, test_loader, device)\n",
        "        \n",
        "        score = get_score(test_ds.targets, np.argmax(predictions, axis=1))\n",
        "\n",
        "        LOGGER.info(f\"========== Inference ==========\")\n",
        "        LOGGER.info(f\"Score: {score:.4f}\")\n",
        "\n",
        "        score_by_class(test_ds.targets, np.argmax(predictions, axis=1))\n",
        "\n",
        "        cm = confusion_matrix(np.argmax(predictions, axis=1), test_ds.targets)\n",
        "        cm_labeled = pd.DataFrame(cm, columns=C.target, index=C.target)\n",
        "\n",
        "        LOGGER.info(f\"========== Confusion Matrix ==========\")\n",
        "        seaborn.heatmap(cm_labeled, cmap='Blues')"
      ],
      "execution_count": 32,
      "outputs": []
    },
    {
      "cell_type": "code",
      "metadata": {
        "colab": {
          "base_uri": "https://localhost:8080/",
          "height": 1000
        },
        "id": "W0KI6kY1x6-u",
        "outputId": "a70f8325-c3a1-41c0-b41a-e75b3bacbb25"
      },
      "source": [
        "if __name__ == \"__main__\":\n",
        "    main()"
      ],
      "execution_count": 33,
      "outputs": [
        {
          "output_type": "stream",
          "text": [
            "========== fold: 0 training ==========\n"
          ],
          "name": "stderr"
        },
        {
          "output_type": "stream",
          "text": [
            "Epoch: [1][0/66] Elapsed 0m 0s (remain 1m 2s) Score: 0.1180 Loss: 2.3942 Grad: 2.6562 \n",
            "Epoch: [1][65/66] Elapsed 0m 10s (remain 0m 0s) Score: 0.2458 Loss: 2.1360 Grad: 2.0630 \n",
            "EVAL: [0/34] Elapsed 0m 0s (remain 0m 14s) Score: 0.4080 Loss: 1.8044 \n"
          ],
          "name": "stdout"
        },
        {
          "output_type": "stream",
          "text": [
            "Epoch 1 - train_score: 0.2458 val_score: 0.3917 train_loss: 2.1360 val_loss: 1.8299 time: 14s\n",
            "Epoch 1 - Save Best Score: 0.3917 Model\n"
          ],
          "name": "stderr"
        },
        {
          "output_type": "stream",
          "text": [
            "EVAL: [33/34] Elapsed 0m 2s (remain 0m 0s) Score: 0.3917 Loss: 1.8299 \n",
            "Epoch: [2][0/66] Elapsed 0m 0s (remain 0m 49s) Score: 0.3720 Loss: 1.8983 Grad: 2.2196 \n",
            "Epoch: [2][65/66] Elapsed 0m 10s (remain 0m 0s) Score: 0.4170 Loss: 1.7171 Grad: 2.1248 \n",
            "EVAL: [0/34] Elapsed 0m 0s (remain 0m 17s) Score: 0.5040 Loss: 1.4353 \n"
          ],
          "name": "stdout"
        },
        {
          "output_type": "stream",
          "text": [
            "Epoch 2 - train_score: 0.4170 val_score: 0.4894 train_loss: 1.7171 val_loss: 1.4646 time: 14s\n",
            "Epoch 2 - Save Best Score: 0.4894 Model\n"
          ],
          "name": "stderr"
        },
        {
          "output_type": "stream",
          "text": [
            "EVAL: [33/34] Elapsed 0m 2s (remain 0m 0s) Score: 0.4894 Loss: 1.4646 \n"
          ],
          "name": "stdout"
        },
        {
          "output_type": "stream",
          "text": [
            "========== fold: 0 result ==========\n",
            "Score: 0.4894\n",
            "========== fold: 1 training ==========\n"
          ],
          "name": "stderr"
        },
        {
          "output_type": "stream",
          "text": [
            "Epoch: [1][0/66] Elapsed 0m 0s (remain 0m 52s) Score: 0.0960 Loss: 2.3613 Grad: 2.5602 \n",
            "Epoch: [1][65/66] Elapsed 0m 10s (remain 0m 0s) Score: 0.2515 Loss: 2.1259 Grad: 2.3828 \n",
            "EVAL: [0/34] Elapsed 0m 0s (remain 0m 17s) Score: 0.4200 Loss: 1.7773 \n"
          ],
          "name": "stdout"
        },
        {
          "output_type": "stream",
          "text": [
            "Epoch 1 - train_score: 0.2515 val_score: 0.3900 train_loss: 2.1259 val_loss: 1.8091 time: 14s\n",
            "Epoch 1 - Save Best Score: 0.3900 Model\n"
          ],
          "name": "stderr"
        },
        {
          "output_type": "stream",
          "text": [
            "EVAL: [33/34] Elapsed 0m 2s (remain 0m 0s) Score: 0.3900 Loss: 1.8091 \n",
            "Epoch: [2][0/66] Elapsed 0m 0s (remain 0m 53s) Score: 0.3180 Loss: 1.9287 Grad: 1.8210 \n",
            "Epoch: [2][65/66] Elapsed 0m 10s (remain 0m 0s) Score: 0.4222 Loss: 1.6927 Grad: 2.1526 \n",
            "EVAL: [0/34] Elapsed 0m 0s (remain 0m 14s) Score: 0.5180 Loss: 1.4346 \n"
          ],
          "name": "stdout"
        },
        {
          "output_type": "stream",
          "text": [
            "Epoch 2 - train_score: 0.4222 val_score: 0.4909 train_loss: 1.6927 val_loss: 1.4499 time: 14s\n",
            "Epoch 2 - Save Best Score: 0.4909 Model\n"
          ],
          "name": "stderr"
        },
        {
          "output_type": "stream",
          "text": [
            "EVAL: [33/34] Elapsed 0m 2s (remain 0m 0s) Score: 0.4909 Loss: 1.4499 \n"
          ],
          "name": "stdout"
        },
        {
          "output_type": "stream",
          "text": [
            "========== fold: 1 result ==========\n",
            "Score: 0.4909\n",
            "========== fold: 2 training ==========\n"
          ],
          "name": "stderr"
        },
        {
          "output_type": "stream",
          "text": [
            "Epoch: [1][0/66] Elapsed 0m 0s (remain 0m 51s) Score: 0.0840 Loss: 2.3446 Grad: 2.2473 \n",
            "Epoch: [1][65/66] Elapsed 0m 10s (remain 0m 0s) Score: 0.2466 Loss: 2.1420 Grad: 2.0691 \n",
            "EVAL: [0/34] Elapsed 0m 0s (remain 0m 18s) Score: 0.3220 Loss: 1.8810 \n"
          ],
          "name": "stdout"
        },
        {
          "output_type": "stream",
          "text": [
            "Epoch 1 - train_score: 0.2466 val_score: 0.3871 train_loss: 2.1420 val_loss: 1.8561 time: 14s\n",
            "Epoch 1 - Save Best Score: 0.3871 Model\n"
          ],
          "name": "stderr"
        },
        {
          "output_type": "stream",
          "text": [
            "EVAL: [33/34] Elapsed 0m 2s (remain 0m 0s) Score: 0.3871 Loss: 1.8561 \n",
            "Epoch: [2][0/66] Elapsed 0m 0s (remain 0m 52s) Score: 0.3880 Loss: 1.8963 Grad: 2.0757 \n",
            "Epoch: [2][65/66] Elapsed 0m 10s (remain 0m 0s) Score: 0.4193 Loss: 1.7136 Grad: 2.0609 \n",
            "EVAL: [0/34] Elapsed 0m 0s (remain 0m 17s) Score: 0.4720 Loss: 1.4958 \n"
          ],
          "name": "stdout"
        },
        {
          "output_type": "stream",
          "text": [
            "Epoch 2 - train_score: 0.4193 val_score: 0.4938 train_loss: 1.7136 val_loss: 1.4556 time: 14s\n",
            "Epoch 2 - Save Best Score: 0.4938 Model\n"
          ],
          "name": "stderr"
        },
        {
          "output_type": "stream",
          "text": [
            "EVAL: [33/34] Elapsed 0m 2s (remain 0m 0s) Score: 0.4938 Loss: 1.4556 \n"
          ],
          "name": "stdout"
        },
        {
          "output_type": "stream",
          "text": [
            "========== fold: 2 result ==========\n",
            "Score: 0.4938\n",
            "========== CV ==========\n",
            "Score: 0.4914\n",
            "========== Inference ==========\n",
            "Score: 0.5062\n",
            "Class: plane Score: 0.63000\n",
            "Class: car   Score: 0.68700\n",
            "Class: bird  Score: 0.22400\n",
            "Class: cat   Score: 0.16600\n",
            "Class: deer  Score: 0.42600\n",
            "Class: dog   Score: 0.48300\n",
            "Class: frog  Score: 0.71600\n",
            "Class: horse Score: 0.55500\n",
            "Class: ship  Score: 0.55900\n",
            "Class: truck Score: 0.61600\n",
            "========== Confusion Matrix ==========\n"
          ],
          "name": "stderr"
        },
        {
          "output_type": "display_data",
          "data": {
            "image/png": "[encoded data removed]",
            "text/plain": [
              "<Figure size 432x288 with 2 Axes>"
            ]
          },
          "metadata": {
            "tags": [],
            "needs_background": "light"
          }
        }
      ]
    },
    {
      "cell_type": "code",
      "metadata": {
        "id": "TB-yLMCY0hFl",
        "colab": {
          "base_uri": "https://localhost:8080/"
        },
        "outputId": "994eea2c-a650-4803-e439-0dd7c2613d7c"
      },
      "source": [
        "!nvidia-smi"
      ],
      "execution_count": 34,
      "outputs": [
        {
          "output_type": "stream",
          "text": [
            "Wed Mar  3 12:15:01 2021       \n",
            "+-----------------------------------------------------------------------------+\n",
            "| NVIDIA-SMI 460.39       Driver Version: 460.32.03    CUDA Version: 11.2     |\n",
            "|-------------------------------+----------------------+----------------------+\n",
            "| GPU  Name        Persistence-M| Bus-Id        Disp.A | Volatile Uncorr. ECC |\n",
            "| Fan  Temp  Perf  Pwr:Usage/Cap|         Memory-Usage | GPU-Util  Compute M. |\n",
            "|                               |                      |               MIG M. |\n",
            "|===============================+======================+======================|\n",
            "|   0  Tesla T4            Off  | 00000000:00:04.0 Off |                    0 |\n",
            "| N/A   76C    P0    44W /  70W |   2092MiB / 15109MiB |      0%      Default |\n",
            "|                               |                      |                  N/A |\n",
            "+-------------------------------+----------------------+----------------------+\n",
            "                                                                               \n",
            "+-----------------------------------------------------------------------------+\n",
            "| Processes:                                                                  |\n",
            "|  GPU   GI   CI        PID   Type   Process name                  GPU Memory |\n",
            "|        ID   ID                                                   Usage      |\n",
            "|=============================================================================|\n",
            "+-----------------------------------------------------------------------------+\n"
          ],
          "name": "stdout"
        }
      ]
    },
    {
      "cell_type": "code",
      "metadata": {
        "id": "iwctaqlT1wah"
      },
      "source": [
        ""
      ],
      "execution_count": 34,
      "outputs": []
    }
  ]
}